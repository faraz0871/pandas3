{
 "cells": [
  {
   "cell_type": "code",
   "execution_count": 3,
   "id": "d8f1aad3-7bf3-4685-b705-fa42a080f1ea",
   "metadata": {},
   "outputs": [],
   "source": [
    "import numpy as np\n",
    "import pandas as pd\n"
   ]
  },
  {
   "cell_type": "code",
   "execution_count": 4,
   "id": "8826a09a-1a50-48ed-851e-05d8331e7f77",
   "metadata": {},
   "outputs": [],
   "source": [
    "dict1 = { \"name\" :[\"faraz\", \"rahul\" , \"rohan\" ,\"mohan\"] ,\n",
    "         \"marks\" :[92,55,78,45],\n",
    "         \"city\" : [\"rampur\" , \"kolkata\",\"bihar\",\"bhalki\"]\n",
    "        }"
   ]
  },
  {
   "cell_type": "code",
   "execution_count": 5,
   "id": "c5deeab8-a085-4882-947b-3ca3f13d27ad",
   "metadata": {},
   "outputs": [],
   "source": [
    " df = pd.DataFrame(dict1)"
   ]
  },
  {
   "cell_type": "code",
   "execution_count": 6,
   "id": "23f70025-ebad-4314-baa5-c88b56207baa",
   "metadata": {},
   "outputs": [
    {
     "data": {
      "text/html": [
       "<div>\n",
       "<style scoped>\n",
       "    .dataframe tbody tr th:only-of-type {\n",
       "        vertical-align: middle;\n",
       "    }\n",
       "\n",
       "    .dataframe tbody tr th {\n",
       "        vertical-align: top;\n",
       "    }\n",
       "\n",
       "    .dataframe thead th {\n",
       "        text-align: right;\n",
       "    }\n",
       "</style>\n",
       "<table border=\"1\" class=\"dataframe\">\n",
       "  <thead>\n",
       "    <tr style=\"text-align: right;\">\n",
       "      <th></th>\n",
       "      <th>name</th>\n",
       "      <th>marks</th>\n",
       "      <th>city</th>\n",
       "    </tr>\n",
       "  </thead>\n",
       "  <tbody>\n",
       "    <tr>\n",
       "      <th>0</th>\n",
       "      <td>faraz</td>\n",
       "      <td>92</td>\n",
       "      <td>rampur</td>\n",
       "    </tr>\n",
       "    <tr>\n",
       "      <th>1</th>\n",
       "      <td>rahul</td>\n",
       "      <td>55</td>\n",
       "      <td>kolkata</td>\n",
       "    </tr>\n",
       "    <tr>\n",
       "      <th>2</th>\n",
       "      <td>rohan</td>\n",
       "      <td>78</td>\n",
       "      <td>bihar</td>\n",
       "    </tr>\n",
       "    <tr>\n",
       "      <th>3</th>\n",
       "      <td>mohan</td>\n",
       "      <td>45</td>\n",
       "      <td>bhalki</td>\n",
       "    </tr>\n",
       "  </tbody>\n",
       "</table>\n",
       "</div>"
      ],
      "text/plain": [
       "    name  marks     city\n",
       "0  faraz     92   rampur\n",
       "1  rahul     55  kolkata\n",
       "2  rohan     78    bihar\n",
       "3  mohan     45   bhalki"
      ]
     },
     "execution_count": 6,
     "metadata": {},
     "output_type": "execute_result"
    }
   ],
   "source": [
    "df"
   ]
  },
  {
   "cell_type": "code",
   "execution_count": 7,
   "id": "30105805-f900-437e-b9b8-1b214fa3abbf",
   "metadata": {},
   "outputs": [],
   "source": [
    "df.to_csv(\"friends.csv\",index = False)"
   ]
  },
  {
   "cell_type": "code",
   "execution_count": 8,
   "id": "c2959299-69d8-4dce-b45d-8ce8cf4818f6",
   "metadata": {},
   "outputs": [
    {
     "data": {
      "text/html": [
       "<div>\n",
       "<style scoped>\n",
       "    .dataframe tbody tr th:only-of-type {\n",
       "        vertical-align: middle;\n",
       "    }\n",
       "\n",
       "    .dataframe tbody tr th {\n",
       "        vertical-align: top;\n",
       "    }\n",
       "\n",
       "    .dataframe thead th {\n",
       "        text-align: right;\n",
       "    }\n",
       "</style>\n",
       "<table border=\"1\" class=\"dataframe\">\n",
       "  <thead>\n",
       "    <tr style=\"text-align: right;\">\n",
       "      <th></th>\n",
       "      <th>name</th>\n",
       "      <th>marks</th>\n",
       "      <th>city</th>\n",
       "    </tr>\n",
       "  </thead>\n",
       "  <tbody>\n",
       "    <tr>\n",
       "      <th>0</th>\n",
       "      <td>faraz</td>\n",
       "      <td>92</td>\n",
       "      <td>rampur</td>\n",
       "    </tr>\n",
       "    <tr>\n",
       "      <th>1</th>\n",
       "      <td>rahul</td>\n",
       "      <td>55</td>\n",
       "      <td>kolkata</td>\n",
       "    </tr>\n",
       "  </tbody>\n",
       "</table>\n",
       "</div>"
      ],
      "text/plain": [
       "    name  marks     city\n",
       "0  faraz     92   rampur\n",
       "1  rahul     55  kolkata"
      ]
     },
     "execution_count": 8,
     "metadata": {},
     "output_type": "execute_result"
    }
   ],
   "source": [
    "df.head(2)"
   ]
  },
  {
   "cell_type": "code",
   "execution_count": 9,
   "id": "38c25d87-8cb9-4050-a503-ff1aad76a805",
   "metadata": {},
   "outputs": [
    {
     "data": {
      "text/html": [
       "<div>\n",
       "<style scoped>\n",
       "    .dataframe tbody tr th:only-of-type {\n",
       "        vertical-align: middle;\n",
       "    }\n",
       "\n",
       "    .dataframe tbody tr th {\n",
       "        vertical-align: top;\n",
       "    }\n",
       "\n",
       "    .dataframe thead th {\n",
       "        text-align: right;\n",
       "    }\n",
       "</style>\n",
       "<table border=\"1\" class=\"dataframe\">\n",
       "  <thead>\n",
       "    <tr style=\"text-align: right;\">\n",
       "      <th></th>\n",
       "      <th>name</th>\n",
       "      <th>marks</th>\n",
       "      <th>city</th>\n",
       "    </tr>\n",
       "  </thead>\n",
       "  <tbody>\n",
       "    <tr>\n",
       "      <th>2</th>\n",
       "      <td>rohan</td>\n",
       "      <td>78</td>\n",
       "      <td>bihar</td>\n",
       "    </tr>\n",
       "    <tr>\n",
       "      <th>3</th>\n",
       "      <td>mohan</td>\n",
       "      <td>45</td>\n",
       "      <td>bhalki</td>\n",
       "    </tr>\n",
       "  </tbody>\n",
       "</table>\n",
       "</div>"
      ],
      "text/plain": [
       "    name  marks    city\n",
       "2  rohan     78   bihar\n",
       "3  mohan     45  bhalki"
      ]
     },
     "execution_count": 9,
     "metadata": {},
     "output_type": "execute_result"
    }
   ],
   "source": [
    "df.tail(2)"
   ]
  },
  {
   "cell_type": "code",
   "execution_count": 10,
   "id": "bbac1cfd-4ab3-4890-9c6f-0b7b588753d6",
   "metadata": {},
   "outputs": [
    {
     "data": {
      "text/html": [
       "<div>\n",
       "<style scoped>\n",
       "    .dataframe tbody tr th:only-of-type {\n",
       "        vertical-align: middle;\n",
       "    }\n",
       "\n",
       "    .dataframe tbody tr th {\n",
       "        vertical-align: top;\n",
       "    }\n",
       "\n",
       "    .dataframe thead th {\n",
       "        text-align: right;\n",
       "    }\n",
       "</style>\n",
       "<table border=\"1\" class=\"dataframe\">\n",
       "  <thead>\n",
       "    <tr style=\"text-align: right;\">\n",
       "      <th></th>\n",
       "      <th>marks</th>\n",
       "    </tr>\n",
       "  </thead>\n",
       "  <tbody>\n",
       "    <tr>\n",
       "      <th>count</th>\n",
       "      <td>4.000000</td>\n",
       "    </tr>\n",
       "    <tr>\n",
       "      <th>mean</th>\n",
       "      <td>67.500000</td>\n",
       "    </tr>\n",
       "    <tr>\n",
       "      <th>std</th>\n",
       "      <td>21.393145</td>\n",
       "    </tr>\n",
       "    <tr>\n",
       "      <th>min</th>\n",
       "      <td>45.000000</td>\n",
       "    </tr>\n",
       "    <tr>\n",
       "      <th>25%</th>\n",
       "      <td>52.500000</td>\n",
       "    </tr>\n",
       "    <tr>\n",
       "      <th>50%</th>\n",
       "      <td>66.500000</td>\n",
       "    </tr>\n",
       "    <tr>\n",
       "      <th>75%</th>\n",
       "      <td>81.500000</td>\n",
       "    </tr>\n",
       "    <tr>\n",
       "      <th>max</th>\n",
       "      <td>92.000000</td>\n",
       "    </tr>\n",
       "  </tbody>\n",
       "</table>\n",
       "</div>"
      ],
      "text/plain": [
       "           marks\n",
       "count   4.000000\n",
       "mean   67.500000\n",
       "std    21.393145\n",
       "min    45.000000\n",
       "25%    52.500000\n",
       "50%    66.500000\n",
       "75%    81.500000\n",
       "max    92.000000"
      ]
     },
     "execution_count": 10,
     "metadata": {},
     "output_type": "execute_result"
    }
   ],
   "source": [
    "## for numerical values it will calculate mean , avg values\n",
    "df.describe()"
   ]
  },
  {
   "cell_type": "code",
   "execution_count": 11,
   "id": "ed6a96dd-3f70-49de-8dbf-0cfb0402a7d8",
   "metadata": {},
   "outputs": [
    {
     "name": "stdout",
     "output_type": "stream",
     "text": [
      "faraz ali \n"
     ]
    }
   ],
   "source": [
    "print(\"faraz ali \")"
   ]
  },
  {
   "cell_type": "code",
   "execution_count": 12,
   "id": "257dcd68-af18-4faa-9ece-1b6d4a6ebb5a",
   "metadata": {},
   "outputs": [],
   "source": [
    "faraz = pd.read_csv(\"faraz.csv\")"
   ]
  },
  {
   "cell_type": "code",
   "execution_count": 13,
   "id": "017dd79d-ff5b-4973-a0f4-75c1efeb0999",
   "metadata": {},
   "outputs": [
    {
     "data": {
      "text/html": [
       "<div>\n",
       "<style scoped>\n",
       "    .dataframe tbody tr th:only-of-type {\n",
       "        vertical-align: middle;\n",
       "    }\n",
       "\n",
       "    .dataframe tbody tr th {\n",
       "        vertical-align: top;\n",
       "    }\n",
       "\n",
       "    .dataframe thead th {\n",
       "        text-align: right;\n",
       "    }\n",
       "</style>\n",
       "<table border=\"1\" class=\"dataframe\">\n",
       "  <thead>\n",
       "    <tr style=\"text-align: right;\">\n",
       "      <th></th>\n",
       "      <th>Serial Number</th>\n",
       "      <th>Company Name</th>\n",
       "      <th>Employee Markme</th>\n",
       "      <th>Description</th>\n",
       "      <th>Leave</th>\n",
       "    </tr>\n",
       "  </thead>\n",
       "  <tbody>\n",
       "    <tr>\n",
       "      <th>0</th>\n",
       "      <td>9788189999599</td>\n",
       "      <td>TALES OF SHIVA</td>\n",
       "      <td>Mark</td>\n",
       "      <td>mark</td>\n",
       "      <td>34</td>\n",
       "    </tr>\n",
       "    <tr>\n",
       "      <th>1</th>\n",
       "      <td>9780099578079</td>\n",
       "      <td>1Q84 THE COMPLETE TRILOGY</td>\n",
       "      <td>HARUKI MURAKAMI</td>\n",
       "      <td>Mark</td>\n",
       "      <td>0</td>\n",
       "    </tr>\n",
       "    <tr>\n",
       "      <th>2</th>\n",
       "      <td>9780198082897</td>\n",
       "      <td>MY KUMAN</td>\n",
       "      <td>Mark</td>\n",
       "      <td>Mark</td>\n",
       "      <td>0</td>\n",
       "    </tr>\n",
       "    <tr>\n",
       "      <th>3</th>\n",
       "      <td>9780007880331</td>\n",
       "      <td>THE GOD OF SMAAL THINGS</td>\n",
       "      <td>ARUNDHATI ROY</td>\n",
       "      <td>4TH HARPER COLLINS</td>\n",
       "      <td>2</td>\n",
       "    </tr>\n",
       "    <tr>\n",
       "      <th>4</th>\n",
       "      <td>9780545060455</td>\n",
       "      <td>THE BLACK CIRCLE</td>\n",
       "      <td>Mark</td>\n",
       "      <td>4TH HARPER COLLINS</td>\n",
       "      <td>0</td>\n",
       "    </tr>\n",
       "    <tr>\n",
       "      <th>...</th>\n",
       "      <td>...</td>\n",
       "      <td>...</td>\n",
       "      <td>...</td>\n",
       "      <td>...</td>\n",
       "      <td>...</td>\n",
       "    </tr>\n",
       "    <tr>\n",
       "      <th>94</th>\n",
       "      <td>9788184821536</td>\n",
       "      <td>MORE STORIES FROM THE JATAKAS</td>\n",
       "      <td>Mark</td>\n",
       "      <td>ACK</td>\n",
       "      <td>0</td>\n",
       "    </tr>\n",
       "    <tr>\n",
       "      <th>95</th>\n",
       "      <td>9788184821543</td>\n",
       "      <td>MORE TALES OF BIRBAL</td>\n",
       "      <td>-</td>\n",
       "      <td>ACK</td>\n",
       "      <td>0</td>\n",
       "    </tr>\n",
       "    <tr>\n",
       "      <th>96</th>\n",
       "      <td>9788184821550</td>\n",
       "      <td>TALES FROM THE JATAKAS</td>\n",
       "      <td>-</td>\n",
       "      <td>ACK</td>\n",
       "      <td>0</td>\n",
       "    </tr>\n",
       "    <tr>\n",
       "      <th>97</th>\n",
       "      <td>9788184821567</td>\n",
       "      <td>RAMarkS OF MEWAR</td>\n",
       "      <td>-</td>\n",
       "      <td>ACK</td>\n",
       "      <td>0</td>\n",
       "    </tr>\n",
       "    <tr>\n",
       "      <th>98</th>\n",
       "      <td>9788184821574</td>\n",
       "      <td>THE SONS OF THE PANDAVAS</td>\n",
       "      <td>-</td>\n",
       "      <td>ACK</td>\n",
       "      <td>0</td>\n",
       "    </tr>\n",
       "  </tbody>\n",
       "</table>\n",
       "<p>99 rows × 5 columns</p>\n",
       "</div>"
      ],
      "text/plain": [
       "    Serial Number                   Company Name  Employee Markme  \\\n",
       "0   9788189999599                 TALES OF SHIVA             Mark   \n",
       "1   9780099578079      1Q84 THE COMPLETE TRILOGY  HARUKI MURAKAMI   \n",
       "2   9780198082897                       MY KUMAN             Mark   \n",
       "3   9780007880331        THE GOD OF SMAAL THINGS    ARUNDHATI ROY   \n",
       "4   9780545060455               THE BLACK CIRCLE             Mark   \n",
       "..            ...                            ...              ...   \n",
       "94  9788184821536  MORE STORIES FROM THE JATAKAS             Mark   \n",
       "95  9788184821543           MORE TALES OF BIRBAL                -   \n",
       "96  9788184821550         TALES FROM THE JATAKAS                -   \n",
       "97  9788184821567               RAMarkS OF MEWAR                -   \n",
       "98  9788184821574       THE SONS OF THE PANDAVAS                -   \n",
       "\n",
       "           Description  Leave  \n",
       "0                 mark     34  \n",
       "1                 Mark      0  \n",
       "2                 Mark      0  \n",
       "3   4TH HARPER COLLINS      2  \n",
       "4   4TH HARPER COLLINS      0  \n",
       "..                 ...    ...  \n",
       "94                 ACK      0  \n",
       "95                 ACK      0  \n",
       "96                 ACK      0  \n",
       "97                 ACK      0  \n",
       "98                 ACK      0  \n",
       "\n",
       "[99 rows x 5 columns]"
      ]
     },
     "execution_count": 13,
     "metadata": {},
     "output_type": "execute_result"
    }
   ],
   "source": [
    "faraz"
   ]
  },
  {
   "cell_type": "code",
   "execution_count": 14,
   "id": "e732f356-3fd6-47c0-bdd3-d96271fddd4a",
   "metadata": {},
   "outputs": [
    {
     "data": {
      "text/plain": [
       "0     34\n",
       "1      0\n",
       "2      0\n",
       "3      2\n",
       "4      0\n",
       "      ..\n",
       "94     0\n",
       "95     0\n",
       "96     0\n",
       "97     0\n",
       "98     0\n",
       "Name: Leave, Length: 99, dtype: int64"
      ]
     },
     "execution_count": 14,
     "metadata": {},
     "output_type": "execute_result"
    }
   ],
   "source": [
    "faraz['Leave']\n"
   ]
  },
  {
   "cell_type": "code",
   "execution_count": 15,
   "id": "8f44a3ad-71ed-4255-9129-6664396dd9d8",
   "metadata": {},
   "outputs": [
    {
     "data": {
      "text/plain": [
       "34"
      ]
     },
     "execution_count": 15,
     "metadata": {},
     "output_type": "execute_result"
    }
   ],
   "source": [
    "faraz['Leave'][0]"
   ]
  },
  {
   "cell_type": "code",
   "execution_count": 16,
   "id": "ee9f39d1-f766-4ecc-b11e-1ebeb2713f50",
   "metadata": {},
   "outputs": [
    {
     "name": "stderr",
     "output_type": "stream",
     "text": [
      "/tmp/ipykernel_1340/4047827236.py:1: SettingWithCopyWarning: \n",
      "A value is trying to be set on a copy of a slice from a DataFrame\n",
      "\n",
      "See the caveats in the documentation: https://pandas.pydata.org/pandas-docs/stable/user_guide/indexing.html#returning-a-view-versus-a-copy\n",
      "  faraz['Leave'][0] = 34\n"
     ]
    }
   ],
   "source": [
    "faraz['Leave'][0] = 34"
   ]
  },
  {
   "cell_type": "code",
   "execution_count": 17,
   "id": "4f12f329-8c25-4149-911e-c80f641943f1",
   "metadata": {},
   "outputs": [],
   "source": [
    "faraz.to_csv(\"faraz.csv\",index = False)"
   ]
  },
  {
   "cell_type": "code",
   "execution_count": null,
   "id": "0ca2a0cb-0ee1-4989-9c42-0e2829d38b71",
   "metadata": {},
   "outputs": [],
   "source": [
    "# faraz.index = ['first','secound','third']"
   ]
  },
  {
   "cell_type": "code",
   "execution_count": null,
   "id": "41127874-86b6-44dc-b3ec-c7d262f21c61",
   "metadata": {},
   "outputs": [],
   "source": []
  },
  {
   "cell_type": "code",
   "execution_count": null,
   "id": "0f3557f7-57a2-4835-831a-5c8e670b6cb8",
   "metadata": {},
   "outputs": [],
   "source": []
  },
  {
   "cell_type": "code",
   "execution_count": null,
   "id": "df38716c-57ca-41fa-bf63-d302973ea7ec",
   "metadata": {},
   "outputs": [],
   "source": []
  },
  {
   "cell_type": "code",
   "execution_count": null,
   "id": "fa3192da-986d-48dd-8c96-1deebd15e249",
   "metadata": {},
   "outputs": [],
   "source": []
  },
  {
   "cell_type": "code",
   "execution_count": null,
   "id": "0266681e-e1b7-489e-a724-c49a1e0e507c",
   "metadata": {},
   "outputs": [],
   "source": []
  },
  {
   "cell_type": "code",
   "execution_count": null,
   "id": "15e3aa5c-c4ac-4e06-b804-6599c706054a",
   "metadata": {},
   "outputs": [],
   "source": []
  },
  {
   "cell_type": "code",
   "execution_count": null,
   "id": "d2a226e1-a17e-47fd-acc9-fb2275f646cf",
   "metadata": {},
   "outputs": [],
   "source": []
  },
  {
   "cell_type": "code",
   "execution_count": null,
   "id": "27a1786b-a99b-4f52-a8c2-cfba66159ff6",
   "metadata": {},
   "outputs": [],
   "source": []
  }
 ],
 "metadata": {
  "kernelspec": {
   "display_name": "Python 3 (ipykernel)",
   "language": "python",
   "name": "python3"
  },
  "language_info": {
   "codemirror_mode": {
    "name": "ipython",
    "version": 3
   },
   "file_extension": ".py",
   "mimetype": "text/x-python",
   "name": "python",
   "nbconvert_exporter": "python",
   "pygments_lexer": "ipython3",
   "version": "3.10.6"
  },
  "toc-autonumbering": true,
  "toc-showcode": true
 },
 "nbformat": 4,
 "nbformat_minor": 5
}
